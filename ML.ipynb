{
 "cells": [
  {
   "cell_type": "code",
   "execution_count": 1,
   "metadata": {},
   "outputs": [
    {
     "name": "stderr",
     "output_type": "stream",
     "text": [
      "C:\\Users\\HP\\AppData\\Local\\Temp\\ipykernel_1064\\1753574390.py:1: DeprecationWarning: \n",
      "Pyarrow will become a required dependency of pandas in the next major release of pandas (pandas 3.0),\n",
      "(to allow more performant data types, such as the Arrow string type, and better interoperability with other libraries)\n",
      "but was not found to be installed on your system.\n",
      "If this would cause problems for you,\n",
      "please provide us feedback at https://github.com/pandas-dev/pandas/issues/54466\n",
      "        \n",
      "  import pandas as pd\n"
     ]
    },
    {
     "data": {
      "text/html": [
       "<div>\n",
       "<style scoped>\n",
       "    .dataframe tbody tr th:only-of-type {\n",
       "        vertical-align: middle;\n",
       "    }\n",
       "\n",
       "    .dataframe tbody tr th {\n",
       "        vertical-align: top;\n",
       "    }\n",
       "\n",
       "    .dataframe thead th {\n",
       "        text-align: right;\n",
       "    }\n",
       "</style>\n",
       "<table border=\"1\" class=\"dataframe\">\n",
       "  <thead>\n",
       "    <tr style=\"text-align: right;\">\n",
       "      <th></th>\n",
       "      <th>Skin type</th>\n",
       "      <th>Product</th>\n",
       "      <th>Concern</th>\n",
       "      <th>product_url</th>\n",
       "      <th>product_pic</th>\n",
       "    </tr>\n",
       "  </thead>\n",
       "  <tbody>\n",
       "    <tr>\n",
       "      <th>0</th>\n",
       "      <td>Dry</td>\n",
       "      <td>Venusia Max Intensive Moisturizing Cream</td>\n",
       "      <td>Acne,Hydration</td>\n",
       "      <td>https://dermatics.in/products/venusia-max-inte...</td>\n",
       "      <td>https://dermatics.in/cdn/shop/files/VENUSIA_4-...</td>\n",
       "    </tr>\n",
       "    <tr>\n",
       "      <th>1</th>\n",
       "      <td>Oily,Combination</td>\n",
       "      <td>Saslic Foaming Face Wash</td>\n",
       "      <td>Whitehead/Blackhead</td>\n",
       "      <td>https://dermatics.in/products/cipla-saslic-foa...</td>\n",
       "      <td>https://dermatics.in/cdn/shop/files/saslic-foa...</td>\n",
       "    </tr>\n",
       "    <tr>\n",
       "      <th>2</th>\n",
       "      <td>Dry</td>\n",
       "      <td>The Derma Co 1% Hyaluronic Sunscreen Aqua Ultr...</td>\n",
       "      <td>Sun protection</td>\n",
       "      <td>https://amzn.to/464QBwM</td>\n",
       "      <td>https://m.media-amazon.com/images/I/51x3cj+-iU...</td>\n",
       "    </tr>\n",
       "    <tr>\n",
       "      <th>3</th>\n",
       "      <td>Dry</td>\n",
       "      <td>Hyalugel</td>\n",
       "      <td>Hydration</td>\n",
       "      <td>https://www.amazon.in/Hyalugel-Hyaluronic-Acid...</td>\n",
       "      <td>https://thebeautyinsideout.com/wp-content/uplo...</td>\n",
       "    </tr>\n",
       "    <tr>\n",
       "      <th>4</th>\n",
       "      <td>Normal</td>\n",
       "      <td>Himalaya Neem Face Wash</td>\n",
       "      <td>Pimples</td>\n",
       "      <td>https://himalayawellness.in/products/himalaya-...</td>\n",
       "      <td>https://himalayawellness.in/cdn/shop/files/100...</td>\n",
       "    </tr>\n",
       "  </tbody>\n",
       "</table>\n",
       "</div>"
      ],
      "text/plain": [
       "          Skin type                                            Product  \\\n",
       "0               Dry           Venusia Max Intensive Moisturizing Cream   \n",
       "1  Oily,Combination                           Saslic Foaming Face Wash   \n",
       "2               Dry  The Derma Co 1% Hyaluronic Sunscreen Aqua Ultr...   \n",
       "3               Dry                                           Hyalugel   \n",
       "4            Normal                            Himalaya Neem Face Wash   \n",
       "\n",
       "               Concern                                        product_url  \\\n",
       "0       Acne,Hydration  https://dermatics.in/products/venusia-max-inte...   \n",
       "1  Whitehead/Blackhead  https://dermatics.in/products/cipla-saslic-foa...   \n",
       "2       Sun protection                            https://amzn.to/464QBwM   \n",
       "3            Hydration  https://www.amazon.in/Hyalugel-Hyaluronic-Acid...   \n",
       "4              Pimples  https://himalayawellness.in/products/himalaya-...   \n",
       "\n",
       "                                         product_pic  \n",
       "0  https://dermatics.in/cdn/shop/files/VENUSIA_4-...  \n",
       "1  https://dermatics.in/cdn/shop/files/saslic-foa...  \n",
       "2  https://m.media-amazon.com/images/I/51x3cj+-iU...  \n",
       "3  https://thebeautyinsideout.com/wp-content/uplo...  \n",
       "4  https://himalayawellness.in/cdn/shop/files/100...  "
      ]
     },
     "execution_count": 1,
     "metadata": {},
     "output_type": "execute_result"
    }
   ],
   "source": [
    "import pandas as pd\n",
    "# from sklearn.model_selection import train_test_split\n",
    "# from sklearn.ensemble import RandomForestClassifier\n",
    "# from sklearn.metrics import accuracy_score\n",
    "df = pd.read_csv('Skinpro - Skinpro.csv')\n",
    "df.head()"
   ]
  },
  {
   "cell_type": "code",
   "execution_count": 2,
   "metadata": {},
   "outputs": [
    {
     "data": {
      "text/plain": [
       "Skin type      0\n",
       "Product        0\n",
       "Concern        0\n",
       "product_url    1\n",
       "product_pic    0\n",
       "dtype: int64"
      ]
     },
     "execution_count": 2,
     "metadata": {},
     "output_type": "execute_result"
    }
   ],
   "source": [
    "df.isnull().sum()"
   ]
  },
  {
   "cell_type": "code",
   "execution_count": 3,
   "metadata": {},
   "outputs": [
    {
     "data": {
      "text/html": [
       "<div>\n",
       "<style scoped>\n",
       "    .dataframe tbody tr th:only-of-type {\n",
       "        vertical-align: middle;\n",
       "    }\n",
       "\n",
       "    .dataframe tbody tr th {\n",
       "        vertical-align: top;\n",
       "    }\n",
       "\n",
       "    .dataframe thead th {\n",
       "        text-align: right;\n",
       "    }\n",
       "</style>\n",
       "<table border=\"1\" class=\"dataframe\">\n",
       "  <thead>\n",
       "    <tr style=\"text-align: right;\">\n",
       "      <th></th>\n",
       "      <th>Skin type</th>\n",
       "      <th>Product</th>\n",
       "      <th>Concern</th>\n",
       "      <th>product_url</th>\n",
       "      <th>product_pic</th>\n",
       "    </tr>\n",
       "  </thead>\n",
       "  <tbody>\n",
       "    <tr>\n",
       "      <th>count</th>\n",
       "      <td>118</td>\n",
       "      <td>118</td>\n",
       "      <td>118</td>\n",
       "      <td>117</td>\n",
       "      <td>118</td>\n",
       "    </tr>\n",
       "    <tr>\n",
       "      <th>unique</th>\n",
       "      <td>29</td>\n",
       "      <td>118</td>\n",
       "      <td>34</td>\n",
       "      <td>117</td>\n",
       "      <td>118</td>\n",
       "    </tr>\n",
       "    <tr>\n",
       "      <th>top</th>\n",
       "      <td>Dry</td>\n",
       "      <td>Venusia Max Intensive Moisturizing Cream</td>\n",
       "      <td>Hydration</td>\n",
       "      <td>https://dermatics.in/products/venusia-max-inte...</td>\n",
       "      <td>https://dermatics.in/cdn/shop/files/VENUSIA_4-...</td>\n",
       "    </tr>\n",
       "    <tr>\n",
       "      <th>freq</th>\n",
       "      <td>22</td>\n",
       "      <td>1</td>\n",
       "      <td>19</td>\n",
       "      <td>1</td>\n",
       "      <td>1</td>\n",
       "    </tr>\n",
       "  </tbody>\n",
       "</table>\n",
       "</div>"
      ],
      "text/plain": [
       "       Skin type                                   Product    Concern  \\\n",
       "count        118                                       118        118   \n",
       "unique        29                                       118         34   \n",
       "top          Dry  Venusia Max Intensive Moisturizing Cream  Hydration   \n",
       "freq          22                                         1         19   \n",
       "\n",
       "                                              product_url  \\\n",
       "count                                                 117   \n",
       "unique                                                117   \n",
       "top     https://dermatics.in/products/venusia-max-inte...   \n",
       "freq                                                    1   \n",
       "\n",
       "                                              product_pic  \n",
       "count                                                 118  \n",
       "unique                                                118  \n",
       "top     https://dermatics.in/cdn/shop/files/VENUSIA_4-...  \n",
       "freq                                                    1  "
      ]
     },
     "execution_count": 3,
     "metadata": {},
     "output_type": "execute_result"
    }
   ],
   "source": [
    "df.describe()"
   ]
  },
  {
   "cell_type": "code",
   "execution_count": 4,
   "metadata": {},
   "outputs": [],
   "source": [
    "df.dropna(inplace=True)"
   ]
  },
  {
   "cell_type": "code",
   "execution_count": 5,
   "metadata": {},
   "outputs": [
    {
     "data": {
      "text/plain": [
       "Skin type      0\n",
       "Product        0\n",
       "Concern        0\n",
       "product_url    0\n",
       "product_pic    0\n",
       "dtype: int64"
      ]
     },
     "execution_count": 5,
     "metadata": {},
     "output_type": "execute_result"
    }
   ],
   "source": [
    "df.isnull().sum()"
   ]
  },
  {
   "cell_type": "code",
   "execution_count": 6,
   "metadata": {},
   "outputs": [],
   "source": [
    "from sklearn.model_selection import train_test_split\n",
    "from sklearn.feature_extraction.text import TfidfVectorizer\n",
    "from sklearn.svm import SVC\n",
    "from sklearn.metrics import classification_report"
   ]
  },
  {
   "cell_type": "code",
   "execution_count": 7,
   "metadata": {},
   "outputs": [
    {
     "name": "stdout",
     "output_type": "stream",
     "text": [
      "                                           precision    recall  f1-score   support\n",
      "\n",
      "                                      Dry       0.36      1.00      0.53         4\n",
      "                          Dry,Combination       0.00      0.00      0.00         1\n",
      "                               Dry,Normal       0.00      0.00      0.00         1\n",
      "    Dry,Oily,Normal,Combination,Sensitive       0.00      0.00      0.00         1\n",
      "                            Dry,Sensitive       0.00      0.00      0.00         1\n",
      "                                   Normal       0.00      0.00      0.00         2\n",
      "Normal, Oily, Sensitive, Dry, Combination       0.00      0.00      0.00         1\n",
      "    Normal,Dry,Combination,Oily,Sensitive       0.14      0.50      0.22         2\n",
      "                                     Oily       0.00      0.00      0.00         2\n",
      "                         Oily,Combination       0.00      0.00      0.00         5\n",
      "                                Sensitive       0.00      0.00      0.00         1\n",
      "                    Sensitive,Combination       0.00      0.00      0.00         2\n",
      "                           Sensitive,Oily       0.00      0.00      0.00         1\n",
      "\n",
      "                                 accuracy                           0.21        24\n",
      "                                macro avg       0.04      0.12      0.06        24\n",
      "                             weighted avg       0.07      0.21      0.11        24\n",
      "\n"
     ]
    },
    {
     "name": "stderr",
     "output_type": "stream",
     "text": [
      "C:\\Users\\HP\\AppData\\Local\\Packages\\PythonSoftwareFoundation.Python.3.11_qbz5n2kfra8p0\\LocalCache\\local-packages\\Python311\\site-packages\\sklearn\\metrics\\_classification.py:1471: UndefinedMetricWarning: Precision and F-score are ill-defined and being set to 0.0 in labels with no predicted samples. Use `zero_division` parameter to control this behavior.\n",
      "  _warn_prf(average, modifier, msg_start, len(result))\n",
      "C:\\Users\\HP\\AppData\\Local\\Packages\\PythonSoftwareFoundation.Python.3.11_qbz5n2kfra8p0\\LocalCache\\local-packages\\Python311\\site-packages\\sklearn\\metrics\\_classification.py:1471: UndefinedMetricWarning: Precision and F-score are ill-defined and being set to 0.0 in labels with no predicted samples. Use `zero_division` parameter to control this behavior.\n",
      "  _warn_prf(average, modifier, msg_start, len(result))\n",
      "C:\\Users\\HP\\AppData\\Local\\Packages\\PythonSoftwareFoundation.Python.3.11_qbz5n2kfra8p0\\LocalCache\\local-packages\\Python311\\site-packages\\sklearn\\metrics\\_classification.py:1471: UndefinedMetricWarning: Precision and F-score are ill-defined and being set to 0.0 in labels with no predicted samples. Use `zero_division` parameter to control this behavior.\n",
      "  _warn_prf(average, modifier, msg_start, len(result))\n"
     ]
    }
   ],
   "source": [
    "X = df['Product']\n",
    "y = df['Skin type']  # Classification target\n",
    "\n",
    "# Split the dataset into training and testing sets\n",
    "X_train, X_test, y_train, y_test = train_test_split(X, y, test_size=0.2, random_state=42)\n",
    "\n",
    "# Vectorize the text data using TF-IDF\n",
    "vectorizer = TfidfVectorizer()\n",
    "X_train_tfidf = vectorizer.fit_transform(X_train)\n",
    "X_test_tfidf = vectorizer.transform(X_test)\n",
    "\n",
    "# Train a Support Vector Machine classifier\n",
    "clf = SVC(kernel='linear')\n",
    "clf.fit(X_train_tfidf, y_train)\n",
    "\n",
    "# Evaluate the classifier\n",
    "y_pred = clf.predict(X_test_tfidf)\n",
    "print(classification_report(y_test, y_pred))"
   ]
  },
  {
   "cell_type": "code",
   "execution_count": 8,
   "metadata": {},
   "outputs": [],
   "source": [
    "import IPython.display as display\n",
    "def recommend_product(df, skin_type, concern):\n",
    "    recommended_products = df[(df['Skin type'].str.contains(skin_type)) & (df['Concern'].str.contains(concern))]\n",
    "    for index, row in recommended_products.iterrows():\n",
    "        print(\"Product:\", row['Product'])\n",
    "        display.display(display.Image(url=row['product_pic']))\n"
   ]
  },
  {
   "cell_type": "code",
   "execution_count": 13,
   "metadata": {},
   "outputs": [
    {
     "name": "stdout",
     "output_type": "stream",
     "text": [
      " * Serving Flask app '__main__'\n",
      " * Debug mode: on\n"
     ]
    },
    {
     "name": "stderr",
     "output_type": "stream",
     "text": [
      "WARNING: This is a development server. Do not use it in a production deployment. Use a production WSGI server instead.\n",
      " * Running on http://127.0.0.1:5000\n",
      "Press CTRL+C to quit\n"
     ]
    },
    {
     "name": "stderr",
     "output_type": "stream",
     "text": [
      "127.0.0.1 - - [17/Apr/2024 11:32:30] \"GET / HTTP/1.1\" 404 -\n"
     ]
    }
   ],
   "source": [
    "from flask import Flask, request, jsonify\n",
    "from flask_cors import CORS\n",
    "import pandas as pd\n",
    "\n",
    "app = Flask(__name__)\n",
    "CORS(app, resources={r\"/recommend\": {\"origins\": [\"http://localhost:8000\", \"http://localhost:5000/recommend\"]}})\n",
    "\n",
    "# Load the DataFrame once when the application starts\n",
    "df = pd.read_csv('Skinpro - Skinpro.csv')\n",
    "\n",
    "@app.route('/recommend', methods=['GET'])\n",
    "def recommend_product():\n",
    "    # Retrieve query parameters from the request\n",
    "    skin_type = request.args.get('skin_type')  # corrected parameter name\n",
    "    concern = request.args.get('concern')      # corrected parameter name\n",
    "    \n",
    "    # Check if both skin_type and concern are provided\n",
    "    if skin_type is None or concern is None:\n",
    "        return jsonify({'error': 'Both skin_type and concern parameters are required.'}), 400\n",
    "    \n",
    "    # Convert skin_type and concern to strings\n",
    "    skin_type = str(skin_type)\n",
    "    concern = str(concern)\n",
    "    \n",
    "    # Filter the DataFrame based on the query parameters\n",
    "    recommended_products = df[(df['Skin type'].str.contains(skin_type, case=False)) &  (df['Concern'].str.contains(concern, case=False))]\n",
    "\n",
    "    # Prepare the response data\n",
    "    recommendations = []\n",
    "    for index, row in recommended_products.iterrows():\n",
    "        recommendations.append({\n",
    "            'product_name': row['Product'],\n",
    "            'product_image_url': row['product_pic']\n",
    "        })\n",
    "    \n",
    "    # Return the recommendations as JSON\n",
    "    return jsonify(recommendations)\n",
    "\n",
    "\n",
    "if __name__ == '__main__':\n",
    "    app.run(debug=True, use_reloader=False)\n"
   ]
  },
  {
   "cell_type": "code",
   "execution_count": null,
   "metadata": {},
   "outputs": [
    {
     "name": "stdout",
     "output_type": "stream",
     "text": [
      "Requirement already satisfied: Flask in c:\\users\\hp\\appdata\\local\\packages\\pythonsoftwarefoundation.python.3.11_qbz5n2kfra8p0\\localcache\\local-packages\\python311\\site-packages (3.0.2)\n",
      "Requirement already satisfied: pandas in c:\\users\\hp\\appdata\\local\\packages\\pythonsoftwarefoundation.python.3.11_qbz5n2kfra8p0\\localcache\\local-packages\\python311\\site-packages (2.2.0)\n",
      "Requirement already satisfied: Werkzeug>=3.0.0 in c:\\users\\hp\\appdata\\local\\packages\\pythonsoftwarefoundation.python.3.11_qbz5n2kfra8p0\\localcache\\local-packages\\python311\\site-packages (from Flask) (3.0.1)\n",
      "Requirement already satisfied: Jinja2>=3.1.2 in c:\\users\\hp\\appdata\\local\\packages\\pythonsoftwarefoundation.python.3.11_qbz5n2kfra8p0\\localcache\\local-packages\\python311\\site-packages (from Flask) (3.1.3)\n",
      "Requirement already satisfied: itsdangerous>=2.1.2 in c:\\users\\hp\\appdata\\local\\packages\\pythonsoftwarefoundation.python.3.11_qbz5n2kfra8p0\\localcache\\local-packages\\python311\\site-packages (from Flask) (2.1.2)\n",
      "Requirement already satisfied: click>=8.1.3 in c:\\users\\hp\\appdata\\local\\packages\\pythonsoftwarefoundation.python.3.11_qbz5n2kfra8p0\\localcache\\local-packages\\python311\\site-packages (from Flask) (8.1.7)\n",
      "Requirement already satisfied: blinker>=1.6.2 in c:\\users\\hp\\appdata\\local\\packages\\pythonsoftwarefoundation.python.3.11_qbz5n2kfra8p0\\localcache\\local-packages\\python311\\site-packages (from Flask) (1.7.0)\n",
      "Requirement already satisfied: numpy<2,>=1.23.2 in c:\\users\\hp\\appdata\\local\\packages\\pythonsoftwarefoundation.python.3.11_qbz5n2kfra8p0\\localcache\\local-packages\\python311\\site-packages (from pandas) (1.26.3)\n",
      "Requirement already satisfied: python-dateutil>=2.8.2 in c:\\users\\hp\\appdata\\local\\packages\\pythonsoftwarefoundation.python.3.11_qbz5n2kfra8p0\\localcache\\local-packages\\python311\\site-packages (from pandas) (2.8.2)\n",
      "Requirement already satisfied: pytz>=2020.1 in c:\\users\\hp\\appdata\\local\\packages\\pythonsoftwarefoundation.python.3.11_qbz5n2kfra8p0\\localcache\\local-packages\\python311\\site-packages (from pandas) (2023.3.post1)\n",
      "Requirement already satisfied: tzdata>=2022.7 in c:\\users\\hp\\appdata\\local\\packages\\pythonsoftwarefoundation.python.3.11_qbz5n2kfra8p0\\localcache\\local-packages\\python311\\site-packages (from pandas) (2023.4)\n",
      "Requirement already satisfied: colorama in c:\\users\\hp\\appdata\\local\\packages\\pythonsoftwarefoundation.python.3.11_qbz5n2kfra8p0\\localcache\\local-packages\\python311\\site-packages (from click>=8.1.3->Flask) (0.4.6)\n",
      "Requirement already satisfied: MarkupSafe>=2.0 in c:\\users\\hp\\appdata\\local\\packages\\pythonsoftwarefoundation.python.3.11_qbz5n2kfra8p0\\localcache\\local-packages\\python311\\site-packages (from Jinja2>=3.1.2->Flask) (2.1.4)\n",
      "Requirement already satisfied: six>=1.5 in c:\\users\\hp\\appdata\\local\\packages\\pythonsoftwarefoundation.python.3.11_qbz5n2kfra8p0\\localcache\\local-packages\\python311\\site-packages (from python-dateutil>=2.8.2->pandas) (1.16.0)\n"
     ]
    }
   ],
   "source": [
    "# !pip install Flask pandas\n"
   ]
  },
  {
   "cell_type": "code",
   "execution_count": null,
   "metadata": {},
   "outputs": [
    {
     "name": "stdout",
     "output_type": "stream",
     "text": [
      "1020\n"
     ]
    }
   ],
   "source": []
  },
  {
   "cell_type": "code",
   "execution_count": null,
   "metadata": {},
   "outputs": [
    {
     "name": "stdout",
     "output_type": "stream",
     "text": [
      "Collecting antlr4-tools\n",
      "  Downloading antlr4_tools-0.2.1-py3-none-any.whl.metadata (269 bytes)\n",
      "Collecting install-jdk (from antlr4-tools)\n",
      "  Downloading install_jdk-1.1.0-py3-none-any.whl.metadata (12 kB)\n",
      "Downloading antlr4_tools-0.2.1-py3-none-any.whl (4.3 kB)\n",
      "Downloading install_jdk-1.1.0-py3-none-any.whl (15 kB)\n",
      "Installing collected packages: install-jdk, antlr4-tools\n",
      "Successfully installed antlr4-tools-0.2.1 install-jdk-1.1.0\n",
      "Note: you may need to restart the kernel to use updated packages.\n"
     ]
    }
   ],
   "source": [
    "#  pip install antlr4-tools"
   ]
  },
  {
   "cell_type": "markdown",
   "metadata": {},
   "source": []
  }
 ],
 "metadata": {
  "kernelspec": {
   "display_name": "Python 3",
   "language": "python",
   "name": "python3"
  },
  "language_info": {
   "codemirror_mode": {
    "name": "ipython",
    "version": 3
   },
   "file_extension": ".py",
   "mimetype": "text/x-python",
   "name": "python",
   "nbconvert_exporter": "python",
   "pygments_lexer": "ipython3",
   "version": "3.11.9"
  }
 },
 "nbformat": 4,
 "nbformat_minor": 2
}
